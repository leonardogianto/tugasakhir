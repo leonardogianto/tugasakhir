{
 "cells": [
  {
   "cell_type": "code",
   "execution_count": 1,
   "id": "1ed8a62a",
   "metadata": {},
   "outputs": [],
   "source": [
    "import tensorflow as tf"
   ]
  },
  {
   "cell_type": "code",
   "execution_count": 2,
   "id": "0c655f1c",
   "metadata": {},
   "outputs": [],
   "source": [
    "model = tf.keras.applications.VGG16(weights = 'imagenet', include_top = False, input_shape = (50,50,3))\n",
    "\n",
    "for layer in model.layers:\n",
    "    layer.trainable = False"
   ]
  },
  {
   "cell_type": "code",
   "execution_count": 3,
   "id": "ae593490",
   "metadata": {},
   "outputs": [],
   "source": [
    "train_data_dir = ('C:\\\\Users\\\\Public\\\\CNN\\\\train')\n",
    "test_data_dir = ('C:\\\\Users\\\\Public\\\\CNN\\\\test')"
   ]
  },
  {
   "cell_type": "code",
   "execution_count": 4,
   "id": "db632672",
   "metadata": {},
   "outputs": [
    {
     "name": "stdout",
     "output_type": "stream",
     "text": [
      "Found 178 images belonging to 2 classes.\n",
      "Found 32 images belonging to 2 classes.\n"
     ]
    }
   ],
   "source": [
    "train_datagen = tf.keras.preprocessing.image.ImageDataGenerator(rescale=1./255,\n",
    "                                   rotation_range=20, \n",
    "                                   width_shift_range=0.2, \n",
    "                                   height_shift_range=0.2,\n",
    "                                   horizontal_flip=True,\n",
    "                                   fill_mode='nearest')\n",
    "validation_datagen = tf.keras.preprocessing.image.ImageDataGenerator(rescale=1./255)\n",
    "\n",
    "train_batchsize = 10\n",
    "val_batchsize = 4\n",
    "\n",
    "train_generator = train_datagen.flow_from_directory(train_data_dir,\n",
    "                                                    target_size=(50, 50),\n",
    "                                                    batch_size=train_batchsize,\n",
    "                                                    class_mode='categorical')\n",
    "\n",
    "test_generator = validation_datagen.flow_from_directory(test_data_dir,\n",
    "                                                    target_size=(50, 50),\n",
    "                                                    batch_size=val_batchsize,\n",
    "                                                    class_mode='categorical',\n",
    "                                                    shuffle=False)"
   ]
  },
  {
   "cell_type": "code",
   "execution_count": 5,
   "id": "3f431906",
   "metadata": {},
   "outputs": [
    {
     "name": "stdout",
     "output_type": "stream",
     "text": [
      "Model: \"model\"\n",
      "_________________________________________________________________\n",
      " Layer (type)                Output Shape              Param #   \n",
      "=================================================================\n",
      " input_1 (InputLayer)        [(None, 50, 50, 3)]       0         \n",
      "                                                                 \n",
      " block1_conv1 (Conv2D)       (None, 50, 50, 64)        1792      \n",
      "                                                                 \n",
      " block1_conv2 (Conv2D)       (None, 50, 50, 64)        36928     \n",
      "                                                                 \n",
      " block1_pool (MaxPooling2D)  (None, 25, 25, 64)        0         \n",
      "                                                                 \n",
      " block2_conv1 (Conv2D)       (None, 25, 25, 128)       73856     \n",
      "                                                                 \n",
      " block2_conv2 (Conv2D)       (None, 25, 25, 128)       147584    \n",
      "                                                                 \n",
      " block2_pool (MaxPooling2D)  (None, 12, 12, 128)       0         \n",
      "                                                                 \n",
      " block3_conv1 (Conv2D)       (None, 12, 12, 256)       295168    \n",
      "                                                                 \n",
      " block3_conv2 (Conv2D)       (None, 12, 12, 256)       590080    \n",
      "                                                                 \n",
      " block3_conv3 (Conv2D)       (None, 12, 12, 256)       590080    \n",
      "                                                                 \n",
      " block3_pool (MaxPooling2D)  (None, 6, 6, 256)         0         \n",
      "                                                                 \n",
      " block4_conv1 (Conv2D)       (None, 6, 6, 512)         1180160   \n",
      "                                                                 \n",
      " block4_conv2 (Conv2D)       (None, 6, 6, 512)         2359808   \n",
      "                                                                 \n",
      " block4_conv3 (Conv2D)       (None, 6, 6, 512)         2359808   \n",
      "                                                                 \n",
      " block4_pool (MaxPooling2D)  (None, 3, 3, 512)         0         \n",
      "                                                                 \n",
      " block5_conv1 (Conv2D)       (None, 3, 3, 512)         2359808   \n",
      "                                                                 \n",
      " block5_conv2 (Conv2D)       (None, 3, 3, 512)         2359808   \n",
      "                                                                 \n",
      " block5_conv3 (Conv2D)       (None, 3, 3, 512)         2359808   \n",
      "                                                                 \n",
      " block5_pool (MaxPooling2D)  (None, 1, 1, 512)         0         \n",
      "                                                                 \n",
      " global_average_pooling2d (G  (None, 512)              0         \n",
      " lobalAveragePooling2D)                                          \n",
      "                                                                 \n",
      " dense (Dense)               (None, 512)               262656    \n",
      "                                                                 \n",
      " dense_1 (Dense)             (None, 256)               131328    \n",
      "                                                                 \n",
      " dense_2 (Dense)             (None, 2)                 514       \n",
      "                                                                 \n",
      "=================================================================\n",
      "Total params: 15,109,186\n",
      "Trainable params: 394,498\n",
      "Non-trainable params: 14,714,688\n",
      "_________________________________________________________________\n",
      "None\n"
     ]
    }
   ],
   "source": [
    "newmodel = model.output\n",
    "newmodel = tf.keras.layers.GlobalAveragePooling2D()(newmodel)\n",
    "newmodel = tf.keras.layers.Dense(512, activation='relu')(newmodel)\n",
    "newmodel = tf.keras.layers.Dense(256, activation='relu')(newmodel)\n",
    "newmodel = tf.keras.layers.Dense(2, activation='softmax')(newmodel)\n",
    "\n",
    "model_new = tf.keras.models.Model(inputs = model.input, outputs = newmodel)\n",
    "\n",
    "print(model_new.summary())"
   ]
  },
  {
   "cell_type": "code",
   "execution_count": 6,
   "id": "9f5fbfcc",
   "metadata": {},
   "outputs": [
    {
     "name": "stderr",
     "output_type": "stream",
     "text": [
      "WARNING:absl:`lr` is deprecated in Keras optimizer, please use `learning_rate` or use the legacy optimizer, e.g.,tf.keras.optimizers.legacy.RMSprop.\n"
     ]
    },
    {
     "name": "stdout",
     "output_type": "stream",
     "text": [
      "Epoch 1/20\n",
      "18/18 [==============================] - 3s 120ms/step - loss: 0.2603 - accuracy: 0.9270 - val_loss: 0.0665 - val_accuracy: 0.9688\n",
      "Epoch 2/20\n",
      "18/18 [==============================] - 2s 96ms/step - loss: 0.1033 - accuracy: 0.9719 - val_loss: 0.0090 - val_accuracy: 1.0000\n",
      "Epoch 3/20\n",
      "18/18 [==============================] - 2s 97ms/step - loss: 0.0298 - accuracy: 0.9944 - val_loss: 0.0131 - val_accuracy: 1.0000\n",
      "Epoch 4/20\n",
      "18/18 [==============================] - 2s 97ms/step - loss: 0.0897 - accuracy: 0.9775 - val_loss: 0.0242 - val_accuracy: 1.0000\n",
      "Epoch 5/20\n",
      "18/18 [==============================] - 2s 98ms/step - loss: 0.0518 - accuracy: 0.9888 - val_loss: 0.0076 - val_accuracy: 1.0000\n",
      "Epoch 6/20\n",
      "18/18 [==============================] - 2s 96ms/step - loss: 0.1179 - accuracy: 0.9494 - val_loss: 0.0072 - val_accuracy: 1.0000\n",
      "Epoch 7/20\n",
      "18/18 [==============================] - 2s 97ms/step - loss: 0.0148 - accuracy: 0.9944 - val_loss: 0.0014 - val_accuracy: 1.0000\n",
      "Epoch 8/20\n",
      "18/18 [==============================] - 2s 96ms/step - loss: 0.0036 - accuracy: 1.0000 - val_loss: 0.0011 - val_accuracy: 1.0000\n",
      "Epoch 9/20\n",
      "18/18 [==============================] - 2s 97ms/step - loss: 0.0264 - accuracy: 0.9944 - val_loss: 3.0480e-04 - val_accuracy: 1.0000\n",
      "Epoch 10/20\n",
      "18/18 [==============================] - 2s 97ms/step - loss: 6.1581e-04 - accuracy: 1.0000 - val_loss: 3.1757e-04 - val_accuracy: 1.0000\n",
      "Epoch 11/20\n",
      "18/18 [==============================] - 2s 96ms/step - loss: 4.4596e-04 - accuracy: 1.0000 - val_loss: 1.1024e-04 - val_accuracy: 1.0000\n",
      "Epoch 12/20\n",
      "18/18 [==============================] - 2s 97ms/step - loss: 5.3772e-04 - accuracy: 1.0000 - val_loss: 9.0896e-05 - val_accuracy: 1.0000\n",
      "Epoch 13/20\n",
      "18/18 [==============================] - 2s 98ms/step - loss: 0.0185 - accuracy: 0.9944 - val_loss: 7.8581e-04 - val_accuracy: 1.0000\n",
      "Epoch 14/20\n",
      "18/18 [==============================] - 2s 97ms/step - loss: 2.9925e-04 - accuracy: 1.0000 - val_loss: 1.0215e-04 - val_accuracy: 1.0000\n",
      "Epoch 15/20\n",
      "18/18 [==============================] - 2s 99ms/step - loss: 3.6157e-04 - accuracy: 1.0000 - val_loss: 8.9484e-05 - val_accuracy: 1.0000\n",
      "Epoch 16/20\n",
      "18/18 [==============================] - 2s 99ms/step - loss: 0.0267 - accuracy: 0.9944 - val_loss: 9.8057e-04 - val_accuracy: 1.0000\n",
      "Epoch 17/20\n",
      "18/18 [==============================] - 2s 104ms/step - loss: 0.0405 - accuracy: 0.9888 - val_loss: 1.3284e-05 - val_accuracy: 1.0000\n",
      "Epoch 18/20\n",
      "18/18 [==============================] - 2s 99ms/step - loss: 1.3319e-04 - accuracy: 1.0000 - val_loss: 1.3049e-05 - val_accuracy: 1.0000\n",
      "Epoch 19/20\n",
      "18/18 [==============================] - 2s 97ms/step - loss: 0.0176 - accuracy: 0.9944 - val_loss: 7.7770e-05 - val_accuracy: 1.0000\n",
      "Epoch 20/20\n",
      "18/18 [==============================] - 2s 102ms/step - loss: 0.0710 - accuracy: 0.9831 - val_loss: 5.6440e-04 - val_accuracy: 1.0000\n"
     ]
    }
   ],
   "source": [
    "model_new.compile(\n",
    "    loss = 'categorical_crossentropy',\n",
    "    optimizer = tf.keras.optimizers.RMSprop(learning_rate=0.001),\n",
    "    metrics = ['accuracy']\n",
    ")\n",
    "\n",
    "model_new.fit(\n",
    "    train_generator,\n",
    "    epochs = 20,\n",
    "    validation_data = test_generator\n",
    ")\n",
    "\n",
    "model_new.save(\"face_recog_2_vgg.h5\")"
   ]
  },
  {
   "cell_type": "code",
   "execution_count": null,
   "id": "d336a9b3",
   "metadata": {},
   "outputs": [],
   "source": []
  }
 ],
 "metadata": {
  "kernelspec": {
   "display_name": "Python 3",
   "language": "python",
   "name": "python3"
  },
  "language_info": {
   "codemirror_mode": {
    "name": "ipython",
    "version": 3
   },
   "file_extension": ".py",
   "mimetype": "text/x-python",
   "name": "python",
   "nbconvert_exporter": "python",
   "pygments_lexer": "ipython3",
   "version": "3.6.13"
  }
 },
 "nbformat": 4,
 "nbformat_minor": 5
}
